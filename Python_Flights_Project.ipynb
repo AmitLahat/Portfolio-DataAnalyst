{
 "cells": [
  {
   "cell_type": "markdown",
   "metadata": {},
   "source": [
    "## Amit Lahat Python Project 10.6.23"
   ]
  },
  {
   "cell_type": "markdown",
   "metadata": {},
   "source": [
    "## working with online data "
   ]
  },
  {
   "cell_type": "markdown",
   "metadata": {},
   "source": [
    "In this project , we will load , clean and store online flights data.\n",
    "We will also look for presentable insights and graph them. "
   ]
  },
  {
   "cell_type": "code",
   "execution_count": 1,
   "metadata": {},
   "outputs": [],
   "source": [
    "import pandas as pd\n",
    "import numpy as np\n",
    "import matplotlib.pyplot as plt\n",
    "import seaborn as sb\n",
    "import datetime"
   ]
  },
  {
   "cell_type": "code",
   "execution_count": 2,
   "metadata": {},
   "outputs": [],
   "source": [
    "import requests\n",
    "import json"
   ]
  },
  {
   "cell_type": "markdown",
   "metadata": {},
   "source": [
    "# Load the data"
   ]
  },
  {
   "cell_type": "code",
   "execution_count": 3,
   "metadata": {},
   "outputs": [],
   "source": [
    "r = requests.get(\"https://data.gov.il/api/3/action/datastore_search?resource_id=e83f763b-b7d7-479e-b172-ae981ddc6de5&limit=5000\")"
   ]
  },
  {
   "cell_type": "code",
   "execution_count": 4,
   "metadata": {},
   "outputs": [],
   "source": [
    "res = json.loads(r.content)"
   ]
  },
  {
   "cell_type": "code",
   "execution_count": 5,
   "metadata": {},
   "outputs": [],
   "source": [
    "df = pd.DataFrame(res['result']['records'])"
   ]
  },
  {
   "cell_type": "code",
   "execution_count": 6,
   "metadata": {},
   "outputs": [
    {
     "data": {
      "text/html": [
       "<div>\n",
       "<style scoped>\n",
       "    .dataframe tbody tr th:only-of-type {\n",
       "        vertical-align: middle;\n",
       "    }\n",
       "\n",
       "    .dataframe tbody tr th {\n",
       "        vertical-align: top;\n",
       "    }\n",
       "\n",
       "    .dataframe thead th {\n",
       "        text-align: right;\n",
       "    }\n",
       "</style>\n",
       "<table border=\"1\" class=\"dataframe\">\n",
       "  <thead>\n",
       "    <tr style=\"text-align: right;\">\n",
       "      <th></th>\n",
       "      <th>_id</th>\n",
       "      <th>CHOPER</th>\n",
       "      <th>CHFLTN</th>\n",
       "      <th>CHOPERD</th>\n",
       "      <th>CHSTOL</th>\n",
       "      <th>CHPTOL</th>\n",
       "      <th>CHAORD</th>\n",
       "      <th>CHLOC1</th>\n",
       "      <th>CHLOC1D</th>\n",
       "      <th>CHLOC1TH</th>\n",
       "      <th>CHLOC1T</th>\n",
       "      <th>CHLOC1CH</th>\n",
       "      <th>CHLOCCT</th>\n",
       "      <th>CHTERM</th>\n",
       "      <th>CHCINT</th>\n",
       "      <th>CHCKZN</th>\n",
       "      <th>CHRMINE</th>\n",
       "      <th>CHRMINH</th>\n",
       "    </tr>\n",
       "  </thead>\n",
       "  <tbody>\n",
       "    <tr>\n",
       "      <th>0</th>\n",
       "      <td>1</td>\n",
       "      <td>LY</td>\n",
       "      <td>5142</td>\n",
       "      <td>EL AL ISRAEL AIRLINES</td>\n",
       "      <td>2023-06-29T18:15:00</td>\n",
       "      <td>2023-06-29T18:16:00</td>\n",
       "      <td>A</td>\n",
       "      <td>LCA</td>\n",
       "      <td>LARNACA</td>\n",
       "      <td>לרנקה</td>\n",
       "      <td>LARNACA</td>\n",
       "      <td>קפריסין</td>\n",
       "      <td>CYPRUS</td>\n",
       "      <td>3</td>\n",
       "      <td>None</td>\n",
       "      <td>None</td>\n",
       "      <td>LANDED</td>\n",
       "      <td>נחתה</td>\n",
       "    </tr>\n",
       "    <tr>\n",
       "      <th>1</th>\n",
       "      <td>2</td>\n",
       "      <td>LY</td>\n",
       "      <td>375</td>\n",
       "      <td>EL AL ISRAEL AIRLINES</td>\n",
       "      <td>2023-06-29T17:05:00</td>\n",
       "      <td>2023-06-29T18:18:00</td>\n",
       "      <td>D</td>\n",
       "      <td>LIS</td>\n",
       "      <td>LISBON</td>\n",
       "      <td>ליסבון</td>\n",
       "      <td>LISBON</td>\n",
       "      <td>פורטוגל</td>\n",
       "      <td>PORTUGAL</td>\n",
       "      <td>3</td>\n",
       "      <td>78-99</td>\n",
       "      <td>D</td>\n",
       "      <td>DEPARTED</td>\n",
       "      <td>המריאה</td>\n",
       "    </tr>\n",
       "    <tr>\n",
       "      <th>2</th>\n",
       "      <td>3</td>\n",
       "      <td>TP</td>\n",
       "      <td>8920</td>\n",
       "      <td>AIR PORTUGAL</td>\n",
       "      <td>2023-06-29T17:05:00</td>\n",
       "      <td>2023-06-29T18:18:00</td>\n",
       "      <td>D</td>\n",
       "      <td>LIS</td>\n",
       "      <td>LISBON</td>\n",
       "      <td>ליסבון</td>\n",
       "      <td>LISBON</td>\n",
       "      <td>פורטוגל</td>\n",
       "      <td>PORTUGAL</td>\n",
       "      <td>3</td>\n",
       "      <td>78-99</td>\n",
       "      <td>D</td>\n",
       "      <td>DEPARTED</td>\n",
       "      <td>המריאה</td>\n",
       "    </tr>\n",
       "    <tr>\n",
       "      <th>3</th>\n",
       "      <td>4</td>\n",
       "      <td>IZ</td>\n",
       "      <td>161</td>\n",
       "      <td>ARKIA  ISRAELI  AIRLINES</td>\n",
       "      <td>2023-06-29T17:40:00</td>\n",
       "      <td>2023-06-29T18:20:00</td>\n",
       "      <td>D</td>\n",
       "      <td>LCA</td>\n",
       "      <td>LARNACA</td>\n",
       "      <td>לרנקה</td>\n",
       "      <td>LARNACA</td>\n",
       "      <td>קפריסין</td>\n",
       "      <td>CYPRUS</td>\n",
       "      <td>1</td>\n",
       "      <td>309-315</td>\n",
       "      <td>A</td>\n",
       "      <td>DEPARTED</td>\n",
       "      <td>המריאה</td>\n",
       "    </tr>\n",
       "    <tr>\n",
       "      <th>4</th>\n",
       "      <td>5</td>\n",
       "      <td>IZ</td>\n",
       "      <td>1801</td>\n",
       "      <td>ARKIA  ISRAELI  AIRLINES</td>\n",
       "      <td>2023-06-29T18:20:00</td>\n",
       "      <td>2023-06-29T18:20:00</td>\n",
       "      <td>D</td>\n",
       "      <td>ETM</td>\n",
       "      <td>RAMON</td>\n",
       "      <td>אילת - רמון</td>\n",
       "      <td>RAMON</td>\n",
       "      <td>ישראל</td>\n",
       "      <td>ISRAEL</td>\n",
       "      <td>1</td>\n",
       "      <td>342-348</td>\n",
       "      <td>B</td>\n",
       "      <td>CANCELED</td>\n",
       "      <td>מבוטלת</td>\n",
       "    </tr>\n",
       "    <tr>\n",
       "      <th>...</th>\n",
       "      <td>...</td>\n",
       "      <td>...</td>\n",
       "      <td>...</td>\n",
       "      <td>...</td>\n",
       "      <td>...</td>\n",
       "      <td>...</td>\n",
       "      <td>...</td>\n",
       "      <td>...</td>\n",
       "      <td>...</td>\n",
       "      <td>...</td>\n",
       "      <td>...</td>\n",
       "      <td>...</td>\n",
       "      <td>...</td>\n",
       "      <td>...</td>\n",
       "      <td>...</td>\n",
       "      <td>...</td>\n",
       "      <td>...</td>\n",
       "      <td>...</td>\n",
       "    </tr>\n",
       "    <tr>\n",
       "      <th>2812</th>\n",
       "      <td>2813</td>\n",
       "      <td>EJU</td>\n",
       "      <td>4657</td>\n",
       "      <td>EASYJET EUROPE AIRLINE</td>\n",
       "      <td>2023-07-03T18:15:00</td>\n",
       "      <td>2023-07-03T18:15:00</td>\n",
       "      <td>A</td>\n",
       "      <td>CDG</td>\n",
       "      <td>PARIS-CHARLES DE GAULLE</td>\n",
       "      <td>פריס</td>\n",
       "      <td>PARIS</td>\n",
       "      <td>צרפת</td>\n",
       "      <td>FRANCE</td>\n",
       "      <td>3</td>\n",
       "      <td>None</td>\n",
       "      <td>None</td>\n",
       "      <td>NOT FINAL</td>\n",
       "      <td>לא סופי</td>\n",
       "    </tr>\n",
       "    <tr>\n",
       "      <th>2813</th>\n",
       "      <td>2814</td>\n",
       "      <td>FR</td>\n",
       "      <td>2005</td>\n",
       "      <td>RYANAIR</td>\n",
       "      <td>2023-07-03T18:15:00</td>\n",
       "      <td>2023-07-03T18:15:00</td>\n",
       "      <td>A</td>\n",
       "      <td>BGY</td>\n",
       "      <td>BERGAMO</td>\n",
       "      <td>ברגמו</td>\n",
       "      <td>BERGAMO</td>\n",
       "      <td>איטליה</td>\n",
       "      <td>ITALY</td>\n",
       "      <td>3</td>\n",
       "      <td>None</td>\n",
       "      <td>None</td>\n",
       "      <td>NOT FINAL</td>\n",
       "      <td>לא סופי</td>\n",
       "    </tr>\n",
       "    <tr>\n",
       "      <th>2814</th>\n",
       "      <td>2815</td>\n",
       "      <td>LX</td>\n",
       "      <td>253</td>\n",
       "      <td>SWISS INT`L  AIRLINES</td>\n",
       "      <td>2023-07-03T18:15:00</td>\n",
       "      <td>2023-07-03T18:15:00</td>\n",
       "      <td>D</td>\n",
       "      <td>ZRH</td>\n",
       "      <td>ZURICH</td>\n",
       "      <td>ציריך</td>\n",
       "      <td>ZURICH</td>\n",
       "      <td>שוויץ</td>\n",
       "      <td>SWITZERLAND</td>\n",
       "      <td>3</td>\n",
       "      <td>None</td>\n",
       "      <td>None</td>\n",
       "      <td>ON TIME</td>\n",
       "      <td>בזמן</td>\n",
       "    </tr>\n",
       "    <tr>\n",
       "      <th>2815</th>\n",
       "      <td>2816</td>\n",
       "      <td>LY</td>\n",
       "      <td>5194</td>\n",
       "      <td>EL AL ISRAEL AIRLINES</td>\n",
       "      <td>2023-07-03T18:15:00</td>\n",
       "      <td>2023-07-03T18:15:00</td>\n",
       "      <td>A</td>\n",
       "      <td>SSH</td>\n",
       "      <td>SHARM EL SHEIKH</td>\n",
       "      <td>שארם אל-שייח</td>\n",
       "      <td>SHARM EL SHEIKH</td>\n",
       "      <td>מצרים</td>\n",
       "      <td>EGYPT</td>\n",
       "      <td>3</td>\n",
       "      <td>None</td>\n",
       "      <td>None</td>\n",
       "      <td>NOT FINAL</td>\n",
       "      <td>לא סופי</td>\n",
       "    </tr>\n",
       "    <tr>\n",
       "      <th>2816</th>\n",
       "      <td>2817</td>\n",
       "      <td>6H</td>\n",
       "      <td>885</td>\n",
       "      <td>ISRAIR AIRLINES</td>\n",
       "      <td>2023-07-03T18:15:00</td>\n",
       "      <td>2023-07-03T18:15:00</td>\n",
       "      <td>D</td>\n",
       "      <td>BUS</td>\n",
       "      <td>BATUMI</td>\n",
       "      <td>בטומי</td>\n",
       "      <td>BATUMI</td>\n",
       "      <td>גיאורגיה</td>\n",
       "      <td>GEORGIA</td>\n",
       "      <td>3</td>\n",
       "      <td>None</td>\n",
       "      <td>None</td>\n",
       "      <td>ON TIME</td>\n",
       "      <td>בזמן</td>\n",
       "    </tr>\n",
       "  </tbody>\n",
       "</table>\n",
       "<p>2817 rows × 18 columns</p>\n",
       "</div>"
      ],
      "text/plain": [
       "       _id CHOPER CHFLTN                   CHOPERD               CHSTOL  \\\n",
       "0        1     LY   5142     EL AL ISRAEL AIRLINES  2023-06-29T18:15:00   \n",
       "1        2     LY    375     EL AL ISRAEL AIRLINES  2023-06-29T17:05:00   \n",
       "2        3     TP   8920              AIR PORTUGAL  2023-06-29T17:05:00   \n",
       "3        4     IZ    161  ARKIA  ISRAELI  AIRLINES  2023-06-29T17:40:00   \n",
       "4        5     IZ   1801  ARKIA  ISRAELI  AIRLINES  2023-06-29T18:20:00   \n",
       "...    ...    ...    ...                       ...                  ...   \n",
       "2812  2813    EJU   4657    EASYJET EUROPE AIRLINE  2023-07-03T18:15:00   \n",
       "2813  2814     FR   2005                   RYANAIR  2023-07-03T18:15:00   \n",
       "2814  2815     LX    253     SWISS INT`L  AIRLINES  2023-07-03T18:15:00   \n",
       "2815  2816     LY   5194     EL AL ISRAEL AIRLINES  2023-07-03T18:15:00   \n",
       "2816  2817     6H    885           ISRAIR AIRLINES  2023-07-03T18:15:00   \n",
       "\n",
       "                   CHPTOL CHAORD CHLOC1                  CHLOC1D  \\\n",
       "0     2023-06-29T18:16:00      A    LCA                  LARNACA   \n",
       "1     2023-06-29T18:18:00      D    LIS                   LISBON   \n",
       "2     2023-06-29T18:18:00      D    LIS                   LISBON   \n",
       "3     2023-06-29T18:20:00      D    LCA                  LARNACA   \n",
       "4     2023-06-29T18:20:00      D    ETM                    RAMON   \n",
       "...                   ...    ...    ...                      ...   \n",
       "2812  2023-07-03T18:15:00      A    CDG  PARIS-CHARLES DE GAULLE   \n",
       "2813  2023-07-03T18:15:00      A    BGY                  BERGAMO   \n",
       "2814  2023-07-03T18:15:00      D    ZRH                   ZURICH   \n",
       "2815  2023-07-03T18:15:00      A    SSH          SHARM EL SHEIKH   \n",
       "2816  2023-07-03T18:15:00      D    BUS                   BATUMI   \n",
       "\n",
       "          CHLOC1TH          CHLOC1T  CHLOC1CH      CHLOCCT CHTERM   CHCINT  \\\n",
       "0            לרנקה          LARNACA   קפריסין       CYPRUS      3     None   \n",
       "1           ליסבון           LISBON   פורטוגל     PORTUGAL      3    78-99   \n",
       "2           ליסבון           LISBON   פורטוגל     PORTUGAL      3    78-99   \n",
       "3            לרנקה          LARNACA   קפריסין       CYPRUS      1  309-315   \n",
       "4      אילת - רמון            RAMON     ישראל       ISRAEL      1  342-348   \n",
       "...            ...              ...       ...          ...    ...      ...   \n",
       "2812          פריס            PARIS      צרפת       FRANCE      3     None   \n",
       "2813         ברגמו          BERGAMO    איטליה        ITALY      3     None   \n",
       "2814         ציריך           ZURICH     שוויץ  SWITZERLAND      3     None   \n",
       "2815  שארם אל-שייח  SHARM EL SHEIKH     מצרים        EGYPT      3     None   \n",
       "2816         בטומי           BATUMI  גיאורגיה      GEORGIA      3     None   \n",
       "\n",
       "     CHCKZN    CHRMINE  CHRMINH  \n",
       "0      None     LANDED     נחתה  \n",
       "1         D   DEPARTED   המריאה  \n",
       "2         D   DEPARTED   המריאה  \n",
       "3         A   DEPARTED   המריאה  \n",
       "4         B   CANCELED   מבוטלת  \n",
       "...     ...        ...      ...  \n",
       "2812   None  NOT FINAL  לא סופי  \n",
       "2813   None  NOT FINAL  לא סופי  \n",
       "2814   None    ON TIME     בזמן  \n",
       "2815   None  NOT FINAL  לא סופי  \n",
       "2816   None    ON TIME     בזמן  \n",
       "\n",
       "[2817 rows x 18 columns]"
      ]
     },
     "execution_count": 6,
     "metadata": {},
     "output_type": "execute_result"
    }
   ],
   "source": [
    "df"
   ]
  },
  {
   "cell_type": "markdown",
   "metadata": {},
   "source": [
    "## display the first rows "
   ]
  },
  {
   "cell_type": "code",
   "execution_count": 7,
   "metadata": {},
   "outputs": [
    {
     "data": {
      "text/html": [
       "<div>\n",
       "<style scoped>\n",
       "    .dataframe tbody tr th:only-of-type {\n",
       "        vertical-align: middle;\n",
       "    }\n",
       "\n",
       "    .dataframe tbody tr th {\n",
       "        vertical-align: top;\n",
       "    }\n",
       "\n",
       "    .dataframe thead th {\n",
       "        text-align: right;\n",
       "    }\n",
       "</style>\n",
       "<table border=\"1\" class=\"dataframe\">\n",
       "  <thead>\n",
       "    <tr style=\"text-align: right;\">\n",
       "      <th></th>\n",
       "      <th>_id</th>\n",
       "      <th>CHOPER</th>\n",
       "      <th>CHFLTN</th>\n",
       "      <th>CHOPERD</th>\n",
       "      <th>CHSTOL</th>\n",
       "      <th>CHPTOL</th>\n",
       "      <th>CHAORD</th>\n",
       "      <th>CHLOC1</th>\n",
       "      <th>CHLOC1D</th>\n",
       "      <th>CHLOC1TH</th>\n",
       "      <th>CHLOC1T</th>\n",
       "      <th>CHLOC1CH</th>\n",
       "      <th>CHLOCCT</th>\n",
       "      <th>CHTERM</th>\n",
       "      <th>CHCINT</th>\n",
       "      <th>CHCKZN</th>\n",
       "      <th>CHRMINE</th>\n",
       "      <th>CHRMINH</th>\n",
       "    </tr>\n",
       "  </thead>\n",
       "  <tbody>\n",
       "    <tr>\n",
       "      <th>0</th>\n",
       "      <td>1</td>\n",
       "      <td>LY</td>\n",
       "      <td>5142</td>\n",
       "      <td>EL AL ISRAEL AIRLINES</td>\n",
       "      <td>2023-06-29T18:15:00</td>\n",
       "      <td>2023-06-29T18:16:00</td>\n",
       "      <td>A</td>\n",
       "      <td>LCA</td>\n",
       "      <td>LARNACA</td>\n",
       "      <td>לרנקה</td>\n",
       "      <td>LARNACA</td>\n",
       "      <td>קפריסין</td>\n",
       "      <td>CYPRUS</td>\n",
       "      <td>3</td>\n",
       "      <td>None</td>\n",
       "      <td>None</td>\n",
       "      <td>LANDED</td>\n",
       "      <td>נחתה</td>\n",
       "    </tr>\n",
       "    <tr>\n",
       "      <th>1</th>\n",
       "      <td>2</td>\n",
       "      <td>LY</td>\n",
       "      <td>375</td>\n",
       "      <td>EL AL ISRAEL AIRLINES</td>\n",
       "      <td>2023-06-29T17:05:00</td>\n",
       "      <td>2023-06-29T18:18:00</td>\n",
       "      <td>D</td>\n",
       "      <td>LIS</td>\n",
       "      <td>LISBON</td>\n",
       "      <td>ליסבון</td>\n",
       "      <td>LISBON</td>\n",
       "      <td>פורטוגל</td>\n",
       "      <td>PORTUGAL</td>\n",
       "      <td>3</td>\n",
       "      <td>78-99</td>\n",
       "      <td>D</td>\n",
       "      <td>DEPARTED</td>\n",
       "      <td>המריאה</td>\n",
       "    </tr>\n",
       "    <tr>\n",
       "      <th>2</th>\n",
       "      <td>3</td>\n",
       "      <td>TP</td>\n",
       "      <td>8920</td>\n",
       "      <td>AIR PORTUGAL</td>\n",
       "      <td>2023-06-29T17:05:00</td>\n",
       "      <td>2023-06-29T18:18:00</td>\n",
       "      <td>D</td>\n",
       "      <td>LIS</td>\n",
       "      <td>LISBON</td>\n",
       "      <td>ליסבון</td>\n",
       "      <td>LISBON</td>\n",
       "      <td>פורטוגל</td>\n",
       "      <td>PORTUGAL</td>\n",
       "      <td>3</td>\n",
       "      <td>78-99</td>\n",
       "      <td>D</td>\n",
       "      <td>DEPARTED</td>\n",
       "      <td>המריאה</td>\n",
       "    </tr>\n",
       "    <tr>\n",
       "      <th>3</th>\n",
       "      <td>4</td>\n",
       "      <td>IZ</td>\n",
       "      <td>161</td>\n",
       "      <td>ARKIA  ISRAELI  AIRLINES</td>\n",
       "      <td>2023-06-29T17:40:00</td>\n",
       "      <td>2023-06-29T18:20:00</td>\n",
       "      <td>D</td>\n",
       "      <td>LCA</td>\n",
       "      <td>LARNACA</td>\n",
       "      <td>לרנקה</td>\n",
       "      <td>LARNACA</td>\n",
       "      <td>קפריסין</td>\n",
       "      <td>CYPRUS</td>\n",
       "      <td>1</td>\n",
       "      <td>309-315</td>\n",
       "      <td>A</td>\n",
       "      <td>DEPARTED</td>\n",
       "      <td>המריאה</td>\n",
       "    </tr>\n",
       "    <tr>\n",
       "      <th>4</th>\n",
       "      <td>5</td>\n",
       "      <td>IZ</td>\n",
       "      <td>1801</td>\n",
       "      <td>ARKIA  ISRAELI  AIRLINES</td>\n",
       "      <td>2023-06-29T18:20:00</td>\n",
       "      <td>2023-06-29T18:20:00</td>\n",
       "      <td>D</td>\n",
       "      <td>ETM</td>\n",
       "      <td>RAMON</td>\n",
       "      <td>אילת - רמון</td>\n",
       "      <td>RAMON</td>\n",
       "      <td>ישראל</td>\n",
       "      <td>ISRAEL</td>\n",
       "      <td>1</td>\n",
       "      <td>342-348</td>\n",
       "      <td>B</td>\n",
       "      <td>CANCELED</td>\n",
       "      <td>מבוטלת</td>\n",
       "    </tr>\n",
       "  </tbody>\n",
       "</table>\n",
       "</div>"
      ],
      "text/plain": [
       "   _id CHOPER CHFLTN                   CHOPERD               CHSTOL  \\\n",
       "0    1     LY   5142     EL AL ISRAEL AIRLINES  2023-06-29T18:15:00   \n",
       "1    2     LY    375     EL AL ISRAEL AIRLINES  2023-06-29T17:05:00   \n",
       "2    3     TP   8920              AIR PORTUGAL  2023-06-29T17:05:00   \n",
       "3    4     IZ    161  ARKIA  ISRAELI  AIRLINES  2023-06-29T17:40:00   \n",
       "4    5     IZ   1801  ARKIA  ISRAELI  AIRLINES  2023-06-29T18:20:00   \n",
       "\n",
       "                CHPTOL CHAORD CHLOC1  CHLOC1D     CHLOC1TH  CHLOC1T CHLOC1CH  \\\n",
       "0  2023-06-29T18:16:00      A    LCA  LARNACA        לרנקה  LARNACA  קפריסין   \n",
       "1  2023-06-29T18:18:00      D    LIS   LISBON       ליסבון   LISBON  פורטוגל   \n",
       "2  2023-06-29T18:18:00      D    LIS   LISBON       ליסבון   LISBON  פורטוגל   \n",
       "3  2023-06-29T18:20:00      D    LCA  LARNACA        לרנקה  LARNACA  קפריסין   \n",
       "4  2023-06-29T18:20:00      D    ETM    RAMON  אילת - רמון    RAMON    ישראל   \n",
       "\n",
       "    CHLOCCT CHTERM   CHCINT CHCKZN   CHRMINE CHRMINH  \n",
       "0    CYPRUS      3     None   None    LANDED    נחתה  \n",
       "1  PORTUGAL      3    78-99      D  DEPARTED  המריאה  \n",
       "2  PORTUGAL      3    78-99      D  DEPARTED  המריאה  \n",
       "3    CYPRUS      1  309-315      A  DEPARTED  המריאה  \n",
       "4    ISRAEL      1  342-348      B  CANCELED  מבוטלת  "
      ]
     },
     "execution_count": 7,
     "metadata": {},
     "output_type": "execute_result"
    }
   ],
   "source": [
    "df.head(5)"
   ]
  },
  {
   "cell_type": "markdown",
   "metadata": {},
   "source": [
    "# clean the data"
   ]
  },
  {
   "cell_type": "markdown",
   "metadata": {},
   "source": [
    "how many rows contains empty strings for each Column? (use a for loop to display the column name and percentage)"
   ]
  },
  {
   "cell_type": "code",
   "execution_count": 9,
   "metadata": {},
   "outputs": [
    {
     "name": "stdout",
     "output_type": "stream",
     "text": [
      "Column: CHCINT containing 60.49% empyty rows\n",
      "Column: CHCKZN containing 60.49% empyty rows\n"
     ]
    }
   ],
   "source": [
    "for i in df.columns:\n",
    "    if df[df[i].isna()==True].shape[0]/df[i].shape[0]>0:\n",
    "        print (f'Column: {i} containing ' + (str(round(df[df[i].isna()==True].shape[0]/df[i].shape[0]*100,2)) + '% empyty rows'))"
   ]
  },
  {
   "cell_type": "markdown",
   "metadata": {},
   "source": [
    "drop the empty rows  "
   ]
  },
  {
   "cell_type": "code",
   "execution_count": 10,
   "metadata": {},
   "outputs": [],
   "source": [
    "i1 = df[df.CHCINT.isna()==True].index\n",
    "i2 = df[df.CHCKZN.isna()==True].index\n",
    "i3 = i1 | i2\n",
    "df.drop(index=i3, inplace=True)"
   ]
  },
  {
   "cell_type": "markdown",
   "metadata": {},
   "source": [
    "format the current date with underscore separation (%d_%m_%y)"
   ]
  },
  {
   "cell_type": "code",
   "execution_count": 11,
   "metadata": {},
   "outputs": [
    {
     "data": {
      "text/plain": [
       "'30_06_2023'"
      ]
     },
     "execution_count": 11,
     "metadata": {},
     "output_type": "execute_result"
    }
   ],
   "source": [
    "CurrentDate = datetime.datetime.now().date().strftime(\"%d_%m_%Y\")\n",
    "CurrentDate"
   ]
  },
  {
   "cell_type": "markdown",
   "metadata": {},
   "source": [
    "Drop the _id column "
   ]
  },
  {
   "cell_type": "code",
   "execution_count": 12,
   "metadata": {},
   "outputs": [],
   "source": [
    "df.drop(columns=['_id'], inplace=True)"
   ]
  },
  {
   "cell_type": "markdown",
   "metadata": {},
   "source": [
    "save the raw data (add the current date to the file name) "
   ]
  },
  {
   "cell_type": "code",
   "execution_count": 13,
   "metadata": {},
   "outputs": [],
   "source": [
    "#df.to_csv('dfUpd_10_06_2023.csv', index=False)"
   ]
  },
  {
   "cell_type": "markdown",
   "metadata": {},
   "source": [
    "select the airline code and name without duplicates (CHOPER,CHOPERD)"
   ]
  },
  {
   "cell_type": "code",
   "execution_count": 14,
   "metadata": {},
   "outputs": [
    {
     "data": {
      "text/html": [
       "<div>\n",
       "<style scoped>\n",
       "    .dataframe tbody tr th:only-of-type {\n",
       "        vertical-align: middle;\n",
       "    }\n",
       "\n",
       "    .dataframe tbody tr th {\n",
       "        vertical-align: top;\n",
       "    }\n",
       "\n",
       "    .dataframe thead th {\n",
       "        text-align: right;\n",
       "    }\n",
       "</style>\n",
       "<table border=\"1\" class=\"dataframe\">\n",
       "  <thead>\n",
       "    <tr style=\"text-align: right;\">\n",
       "      <th></th>\n",
       "      <th>CHOPER</th>\n",
       "      <th>CHOPERD</th>\n",
       "    </tr>\n",
       "  </thead>\n",
       "  <tbody>\n",
       "    <tr>\n",
       "      <th>1</th>\n",
       "      <td>LY</td>\n",
       "      <td>EL AL ISRAEL AIRLINES</td>\n",
       "    </tr>\n",
       "    <tr>\n",
       "      <th>2</th>\n",
       "      <td>TP</td>\n",
       "      <td>AIR PORTUGAL</td>\n",
       "    </tr>\n",
       "    <tr>\n",
       "      <th>3</th>\n",
       "      <td>IZ</td>\n",
       "      <td>ARKIA  ISRAELI  AIRLINES</td>\n",
       "    </tr>\n",
       "    <tr>\n",
       "      <th>6</th>\n",
       "      <td>6H</td>\n",
       "      <td>ISRAIR AIRLINES</td>\n",
       "    </tr>\n",
       "    <tr>\n",
       "      <th>8</th>\n",
       "      <td>AR</td>\n",
       "      <td>AEROLINEAS ARGENTINAS S.A.</td>\n",
       "    </tr>\n",
       "    <tr>\n",
       "      <th>...</th>\n",
       "      <td>...</td>\n",
       "      <td>...</td>\n",
       "    </tr>\n",
       "    <tr>\n",
       "      <th>1883</th>\n",
       "      <td>BUC</td>\n",
       "      <td>EUROPEAN AIR CHARTER</td>\n",
       "    </tr>\n",
       "    <tr>\n",
       "      <th>1890</th>\n",
       "      <td>SM</td>\n",
       "      <td>AIR CAIRO</td>\n",
       "    </tr>\n",
       "    <tr>\n",
       "      <th>1913</th>\n",
       "      <td>GF</td>\n",
       "      <td>GULF AIR - BAHREIN</td>\n",
       "    </tr>\n",
       "    <tr>\n",
       "      <th>1914</th>\n",
       "      <td>HU</td>\n",
       "      <td>HAINAN AIRLINES</td>\n",
       "    </tr>\n",
       "    <tr>\n",
       "      <th>2077</th>\n",
       "      <td>5F</td>\n",
       "      <td>FLYONE</td>\n",
       "    </tr>\n",
       "  </tbody>\n",
       "</table>\n",
       "<p>89 rows × 2 columns</p>\n",
       "</div>"
      ],
      "text/plain": [
       "     CHOPER                     CHOPERD\n",
       "1        LY       EL AL ISRAEL AIRLINES\n",
       "2        TP                AIR PORTUGAL\n",
       "3        IZ    ARKIA  ISRAELI  AIRLINES\n",
       "6        6H             ISRAIR AIRLINES\n",
       "8        AR  AEROLINEAS ARGENTINAS S.A.\n",
       "...     ...                         ...\n",
       "1883    BUC        EUROPEAN AIR CHARTER\n",
       "1890     SM                   AIR CAIRO\n",
       "1913     GF          GULF AIR - BAHREIN\n",
       "1914     HU             HAINAN AIRLINES\n",
       "2077     5F                      FLYONE\n",
       "\n",
       "[89 rows x 2 columns]"
      ]
     },
     "execution_count": 14,
     "metadata": {},
     "output_type": "execute_result"
    }
   ],
   "source": [
    "NameCode = df[['CHOPER','CHOPERD']].drop_duplicates()\n",
    "NameCode"
   ]
  },
  {
   "cell_type": "markdown",
   "metadata": {},
   "source": [
    "Load the file airlines.csv and merge it with a new data and save the file 'airline.csv'"
   ]
  },
  {
   "cell_type": "code",
   "execution_count": 15,
   "metadata": {},
   "outputs": [
    {
     "data": {
      "text/html": [
       "<div>\n",
       "<style scoped>\n",
       "    .dataframe tbody tr th:only-of-type {\n",
       "        vertical-align: middle;\n",
       "    }\n",
       "\n",
       "    .dataframe tbody tr th {\n",
       "        vertical-align: top;\n",
       "    }\n",
       "\n",
       "    .dataframe thead th {\n",
       "        text-align: right;\n",
       "    }\n",
       "</style>\n",
       "<table border=\"1\" class=\"dataframe\">\n",
       "  <thead>\n",
       "    <tr style=\"text-align: right;\">\n",
       "      <th></th>\n",
       "      <th>CHOPER</th>\n",
       "      <th>CHOPERD</th>\n",
       "    </tr>\n",
       "  </thead>\n",
       "  <tbody>\n",
       "    <tr>\n",
       "      <th>0</th>\n",
       "      <td>PC</td>\n",
       "      <td>PEGASUS AIRLINES</td>\n",
       "    </tr>\n",
       "    <tr>\n",
       "      <th>1</th>\n",
       "      <td>LY</td>\n",
       "      <td>EL AL ISRAEL AIRLINES</td>\n",
       "    </tr>\n",
       "    <tr>\n",
       "      <th>2</th>\n",
       "      <td>TK</td>\n",
       "      <td>TURKISH AIRLINES</td>\n",
       "    </tr>\n",
       "    <tr>\n",
       "      <th>3</th>\n",
       "      <td>LX</td>\n",
       "      <td>SWISS INT`L  AIRLINES</td>\n",
       "    </tr>\n",
       "    <tr>\n",
       "      <th>4</th>\n",
       "      <td>FB</td>\n",
       "      <td>BULGARIA  AIR</td>\n",
       "    </tr>\n",
       "    <tr>\n",
       "      <th>...</th>\n",
       "      <td>...</td>\n",
       "      <td>...</td>\n",
       "    </tr>\n",
       "    <tr>\n",
       "      <th>642</th>\n",
       "      <td>AYT</td>\n",
       "      <td>AYIT AVIATION</td>\n",
       "    </tr>\n",
       "    <tr>\n",
       "      <th>889</th>\n",
       "      <td>KE</td>\n",
       "      <td>KOREAN AIR</td>\n",
       "    </tr>\n",
       "    <tr>\n",
       "      <th>972</th>\n",
       "      <td>KM</td>\n",
       "      <td>AIR MALTA</td>\n",
       "    </tr>\n",
       "    <tr>\n",
       "      <th>1103</th>\n",
       "      <td>FI</td>\n",
       "      <td>ICELAND AIR</td>\n",
       "    </tr>\n",
       "    <tr>\n",
       "      <th>1890</th>\n",
       "      <td>SM</td>\n",
       "      <td>AIR CAIRO</td>\n",
       "    </tr>\n",
       "  </tbody>\n",
       "</table>\n",
       "<p>125 rows × 2 columns</p>\n",
       "</div>"
      ],
      "text/plain": [
       "     CHOPER                CHOPERD\n",
       "0        PC       PEGASUS AIRLINES\n",
       "1        LY  EL AL ISRAEL AIRLINES\n",
       "2        TK       TURKISH AIRLINES\n",
       "3        LX  SWISS INT`L  AIRLINES\n",
       "4        FB          BULGARIA  AIR\n",
       "...     ...                    ...\n",
       "642     AYT          AYIT AVIATION\n",
       "889      KE             KOREAN AIR\n",
       "972      KM              AIR MALTA\n",
       "1103     FI            ICELAND AIR\n",
       "1890     SM              AIR CAIRO\n",
       "\n",
       "[125 rows x 2 columns]"
      ]
     },
     "execution_count": 15,
     "metadata": {},
     "output_type": "execute_result"
    }
   ],
   "source": [
    "airlines = pd.read_csv('airlines.csv')\n",
    "airlinesUpd = pd.concat([airlines,NameCode]).drop_duplicates()\n",
    "airlinesUpd \n",
    "#airlinesUpd.to_csv('airlinesUpd_10_06_2023.csv', index=False) "
   ]
  },
  {
   "cell_type": "markdown",
   "metadata": {},
   "source": [
    "Drop the Airline name column "
   ]
  },
  {
   "cell_type": "code",
   "execution_count": 16,
   "metadata": {},
   "outputs": [],
   "source": [
    "df.drop(columns=['CHOPERD'], inplace=True)"
   ]
  },
  {
   "cell_type": "markdown",
   "metadata": {},
   "source": [
    "Do the same task with airports (CHLOC1,CHLOC1D) and save the file 'airports.csv'"
   ]
  },
  {
   "cell_type": "code",
   "execution_count": 17,
   "metadata": {},
   "outputs": [
    {
     "data": {
      "text/html": [
       "<div>\n",
       "<style scoped>\n",
       "    .dataframe tbody tr th:only-of-type {\n",
       "        vertical-align: middle;\n",
       "    }\n",
       "\n",
       "    .dataframe tbody tr th {\n",
       "        vertical-align: top;\n",
       "    }\n",
       "\n",
       "    .dataframe thead th {\n",
       "        text-align: right;\n",
       "    }\n",
       "</style>\n",
       "<table border=\"1\" class=\"dataframe\">\n",
       "  <thead>\n",
       "    <tr style=\"text-align: right;\">\n",
       "      <th></th>\n",
       "      <th>CHLOC1</th>\n",
       "      <th>CHLOC1D</th>\n",
       "    </tr>\n",
       "  </thead>\n",
       "  <tbody>\n",
       "    <tr>\n",
       "      <th>0</th>\n",
       "      <td>SAW</td>\n",
       "      <td>ISTANBUL-SABIHA GOKCHEN</td>\n",
       "    </tr>\n",
       "    <tr>\n",
       "      <th>1</th>\n",
       "      <td>PRG</td>\n",
       "      <td>PRAGUE-RUZYNE</td>\n",
       "    </tr>\n",
       "    <tr>\n",
       "      <th>2</th>\n",
       "      <td>IST</td>\n",
       "      <td>ISTANBUL</td>\n",
       "    </tr>\n",
       "    <tr>\n",
       "      <th>3</th>\n",
       "      <td>ZRH</td>\n",
       "      <td>ZURICH</td>\n",
       "    </tr>\n",
       "    <tr>\n",
       "      <th>4</th>\n",
       "      <td>SOF</td>\n",
       "      <td>SOFIA</td>\n",
       "    </tr>\n",
       "    <tr>\n",
       "      <th>...</th>\n",
       "      <td>...</td>\n",
       "      <td>...</td>\n",
       "    </tr>\n",
       "    <tr>\n",
       "      <th>1883</th>\n",
       "      <td>BUC</td>\n",
       "      <td>EUROPEAN AIR CHARTER</td>\n",
       "    </tr>\n",
       "    <tr>\n",
       "      <th>1890</th>\n",
       "      <td>SM</td>\n",
       "      <td>AIR CAIRO</td>\n",
       "    </tr>\n",
       "    <tr>\n",
       "      <th>1913</th>\n",
       "      <td>GF</td>\n",
       "      <td>GULF AIR - BAHREIN</td>\n",
       "    </tr>\n",
       "    <tr>\n",
       "      <th>1914</th>\n",
       "      <td>HU</td>\n",
       "      <td>HAINAN AIRLINES</td>\n",
       "    </tr>\n",
       "    <tr>\n",
       "      <th>2077</th>\n",
       "      <td>5F</td>\n",
       "      <td>FLYONE</td>\n",
       "    </tr>\n",
       "  </tbody>\n",
       "</table>\n",
       "<p>254 rows × 2 columns</p>\n",
       "</div>"
      ],
      "text/plain": [
       "     CHLOC1                  CHLOC1D\n",
       "0       SAW  ISTANBUL-SABIHA GOKCHEN\n",
       "1       PRG            PRAGUE-RUZYNE\n",
       "2       IST                 ISTANBUL\n",
       "3       ZRH                   ZURICH\n",
       "4       SOF                    SOFIA\n",
       "...     ...                      ...\n",
       "1883    BUC     EUROPEAN AIR CHARTER\n",
       "1890     SM                AIR CAIRO\n",
       "1913     GF       GULF AIR - BAHREIN\n",
       "1914     HU          HAINAN AIRLINES\n",
       "2077     5F                   FLYONE\n",
       "\n",
       "[254 rows x 2 columns]"
      ]
     },
     "execution_count": 17,
     "metadata": {},
     "output_type": "execute_result"
    }
   ],
   "source": [
    "airports = pd.read_csv('airports.csv')\n",
    "NameCode.rename(columns={'CHOPER':'CHLOC1','CHOPERD':'CHLOC1D'}, inplace=True)\n",
    "airportsUpd = pd.concat([airports,NameCode]).drop_duplicates()\n",
    "airportsUpd\n",
    "#airportsUpd.to_csv('airportsUpd_10_06_2023.csv', index=False) "
   ]
  },
  {
   "cell_type": "markdown",
   "metadata": {},
   "source": [
    "drop the hebrew columns 'CHLOC1TH','CHLOC1CH','CHRMINH'"
   ]
  },
  {
   "cell_type": "code",
   "execution_count": 18,
   "metadata": {},
   "outputs": [],
   "source": [
    "df.drop(columns=['CHLOC1TH','CHLOC1CH','CHRMINH'], inplace=True)"
   ]
  },
  {
   "cell_type": "markdown",
   "metadata": {},
   "source": [
    "### rename the columns "
   ]
  },
  {
   "cell_type": "code",
   "execution_count": 19,
   "metadata": {},
   "outputs": [
    {
     "data": {
      "text/html": [
       "<div>\n",
       "<style scoped>\n",
       "    .dataframe tbody tr th:only-of-type {\n",
       "        vertical-align: middle;\n",
       "    }\n",
       "\n",
       "    .dataframe tbody tr th {\n",
       "        vertical-align: top;\n",
       "    }\n",
       "\n",
       "    .dataframe thead th {\n",
       "        text-align: right;\n",
       "    }\n",
       "</style>\n",
       "<table border=\"1\" class=\"dataframe\">\n",
       "  <thead>\n",
       "    <tr style=\"text-align: right;\">\n",
       "      <th></th>\n",
       "      <th>Airline</th>\n",
       "      <th>FlightNum</th>\n",
       "      <th>PlanTime</th>\n",
       "      <th>ActualTime</th>\n",
       "      <th>Direction</th>\n",
       "      <th>Airport</th>\n",
       "      <th>CHLOC1D</th>\n",
       "      <th>City</th>\n",
       "      <th>Country</th>\n",
       "      <th>Terminal</th>\n",
       "      <th>CHCINT</th>\n",
       "      <th>CHCKZN</th>\n",
       "      <th>Status</th>\n",
       "    </tr>\n",
       "  </thead>\n",
       "  <tbody>\n",
       "    <tr>\n",
       "      <th>1</th>\n",
       "      <td>LY</td>\n",
       "      <td>375</td>\n",
       "      <td>2023-06-29T17:05:00</td>\n",
       "      <td>2023-06-29T18:18:00</td>\n",
       "      <td>D</td>\n",
       "      <td>LIS</td>\n",
       "      <td>LISBON</td>\n",
       "      <td>LISBON</td>\n",
       "      <td>PORTUGAL</td>\n",
       "      <td>3</td>\n",
       "      <td>78-99</td>\n",
       "      <td>D</td>\n",
       "      <td>DEPARTED</td>\n",
       "    </tr>\n",
       "  </tbody>\n",
       "</table>\n",
       "</div>"
      ],
      "text/plain": [
       "  Airline FlightNum             PlanTime           ActualTime Direction  \\\n",
       "1      LY       375  2023-06-29T17:05:00  2023-06-29T18:18:00         D   \n",
       "\n",
       "  Airport CHLOC1D    City   Country Terminal CHCINT CHCKZN    Status  \n",
       "1     LIS  LISBON  LISBON  PORTUGAL        3  78-99      D  DEPARTED  "
      ]
     },
     "execution_count": 19,
     "metadata": {},
     "output_type": "execute_result"
    }
   ],
   "source": [
    "labels = {'CHOPER':'Airline','CHFLTN':'FlightNum','CHSTOL':'PlanTime','CHPTOL':'ActualTime','CHAORD':'Direction','CHLOC1':'Airport','CHLOC1T':'City','CHLOCCT':'Country','CHTERM':'Terminal','CHRMINE':'Status'}\n",
    "df.rename(columns=labels, inplace=True)\n",
    "df.head(1)"
   ]
  },
  {
   "cell_type": "markdown",
   "metadata": {},
   "source": [
    "Change the PlanTime and ActualTime columns type to np.datetime64"
   ]
  },
  {
   "cell_type": "code",
   "execution_count": 20,
   "metadata": {},
   "outputs": [],
   "source": [
    "df.PlanTime = df.PlanTime.astype('datetime64[ns]')\n",
    "df.ActualTime = df.ActualTime.astype('datetime64[ns]')"
   ]
  },
  {
   "cell_type": "markdown",
   "metadata": {},
   "source": [
    "Save the clean data to new file clean.csv"
   ]
  },
  {
   "cell_type": "code",
   "execution_count": 21,
   "metadata": {},
   "outputs": [],
   "source": [
    "#df.to_csv('clean_10_06_2023.csv', index=False) "
   ]
  },
  {
   "cell_type": "markdown",
   "metadata": {},
   "source": [
    "update the file final.csv with departed, landed and canceled flights only"
   ]
  },
  {
   "cell_type": "code",
   "execution_count": 22,
   "metadata": {},
   "outputs": [
    {
     "data": {
      "text/plain": [
       "array(['LANDED', 'CANCELED', 'DEPARTED'], dtype=object)"
      ]
     },
     "execution_count": 22,
     "metadata": {},
     "output_type": "execute_result"
    }
   ],
   "source": [
    "final = pd.read_csv('final.csv')\n",
    "final = final[final['Status'].isin(['DEPARTED', 'LANDED', 'CANCELED'])]\n",
    "final.Status.unique()"
   ]
  },
  {
   "cell_type": "markdown",
   "metadata": {},
   "source": [
    "Add a new column for total delay in minutes"
   ]
  },
  {
   "cell_type": "code",
   "execution_count": 23,
   "metadata": {},
   "outputs": [
    {
     "data": {
      "text/html": [
       "<div>\n",
       "<style scoped>\n",
       "    .dataframe tbody tr th:only-of-type {\n",
       "        vertical-align: middle;\n",
       "    }\n",
       "\n",
       "    .dataframe tbody tr th {\n",
       "        vertical-align: top;\n",
       "    }\n",
       "\n",
       "    .dataframe thead th {\n",
       "        text-align: right;\n",
       "    }\n",
       "</style>\n",
       "<table border=\"1\" class=\"dataframe\">\n",
       "  <thead>\n",
       "    <tr style=\"text-align: right;\">\n",
       "      <th></th>\n",
       "      <th>Airline</th>\n",
       "      <th>FlightNum</th>\n",
       "      <th>PlanTime</th>\n",
       "      <th>ActualTime</th>\n",
       "      <th>Direction</th>\n",
       "      <th>Airport</th>\n",
       "      <th>CHLOC1D</th>\n",
       "      <th>City</th>\n",
       "      <th>Country</th>\n",
       "      <th>Terminal</th>\n",
       "      <th>CHCINT</th>\n",
       "      <th>CHCKZN</th>\n",
       "      <th>Status</th>\n",
       "      <th>DelayMinutes</th>\n",
       "    </tr>\n",
       "  </thead>\n",
       "  <tbody>\n",
       "    <tr>\n",
       "      <th>1</th>\n",
       "      <td>LY</td>\n",
       "      <td>375</td>\n",
       "      <td>2023-06-29 17:05:00</td>\n",
       "      <td>2023-06-29 18:18:00</td>\n",
       "      <td>D</td>\n",
       "      <td>LIS</td>\n",
       "      <td>LISBON</td>\n",
       "      <td>LISBON</td>\n",
       "      <td>PORTUGAL</td>\n",
       "      <td>3</td>\n",
       "      <td>78-99</td>\n",
       "      <td>D</td>\n",
       "      <td>DEPARTED</td>\n",
       "      <td>73.0</td>\n",
       "    </tr>\n",
       "    <tr>\n",
       "      <th>2</th>\n",
       "      <td>TP</td>\n",
       "      <td>8920</td>\n",
       "      <td>2023-06-29 17:05:00</td>\n",
       "      <td>2023-06-29 18:18:00</td>\n",
       "      <td>D</td>\n",
       "      <td>LIS</td>\n",
       "      <td>LISBON</td>\n",
       "      <td>LISBON</td>\n",
       "      <td>PORTUGAL</td>\n",
       "      <td>3</td>\n",
       "      <td>78-99</td>\n",
       "      <td>D</td>\n",
       "      <td>DEPARTED</td>\n",
       "      <td>73.0</td>\n",
       "    </tr>\n",
       "  </tbody>\n",
       "</table>\n",
       "</div>"
      ],
      "text/plain": [
       "  Airline FlightNum            PlanTime          ActualTime Direction Airport  \\\n",
       "1      LY       375 2023-06-29 17:05:00 2023-06-29 18:18:00         D     LIS   \n",
       "2      TP      8920 2023-06-29 17:05:00 2023-06-29 18:18:00         D     LIS   \n",
       "\n",
       "  CHLOC1D    City   Country Terminal CHCINT CHCKZN    Status  DelayMinutes  \n",
       "1  LISBON  LISBON  PORTUGAL        3  78-99      D  DEPARTED          73.0  \n",
       "2  LISBON  LISBON  PORTUGAL        3  78-99      D  DEPARTED          73.0  "
      ]
     },
     "execution_count": 23,
     "metadata": {},
     "output_type": "execute_result"
    }
   ],
   "source": [
    "DelayedIndex = df[(df.ActualTime.astype('datetime64[ns]')-df.PlanTime.astype('datetime64[ns]')).dt.total_seconds()//60>0].index\n",
    "df['DelayMinutes'] = (df.ActualTime.astype('datetime64[ns]')-df.PlanTime.astype('datetime64[ns]')).dt.total_seconds().loc[DelayedIndex]//60\n",
    "df.head(2)"
   ]
  },
  {
   "cell_type": "markdown",
   "metadata": {},
   "source": [
    "What is the average delay for departed flights"
   ]
  },
  {
   "cell_type": "code",
   "execution_count": 24,
   "metadata": {},
   "outputs": [
    {
     "data": {
      "text/plain": [
       "44.37057220708447"
      ]
     },
     "execution_count": 24,
     "metadata": {},
     "output_type": "execute_result"
    }
   ],
   "source": [
    "df[df['Status']=='DEPARTED'].DelayMinutes.mean() #avg of delayed flights only"
   ]
  },
  {
   "cell_type": "markdown",
   "metadata": {},
   "source": [
    "Display total delay distribution (Airlines , Terminals, Date)"
   ]
  },
  {
   "cell_type": "code",
   "execution_count": 25,
   "metadata": {},
   "outputs": [],
   "source": [
    "# The Data recieved contain planned flights, therefore filter to show and sum only row with delay\n",
    "AirlineDelay = df[df.DelayMinutes>0].groupby('Airline').sum('DelayMinutes')\n",
    "TerminalDelay = df[df.DelayMinutes>0].groupby('Terminal').sum('DelayMinutes')\n",
    "df['PlanDate'] = pd.to_datetime(df['PlanTime']).dt.date\n",
    "DateDelay = df[df.DelayMinutes>0].groupby('PlanDate').sum('DelayMinutes')"
   ]
  },
  {
   "cell_type": "code",
   "execution_count": 26,
   "metadata": {},
   "outputs": [
    {
     "data": {
      "text/html": [
       "<div>\n",
       "<style scoped>\n",
       "    .dataframe tbody tr th:only-of-type {\n",
       "        vertical-align: middle;\n",
       "    }\n",
       "\n",
       "    .dataframe tbody tr th {\n",
       "        vertical-align: top;\n",
       "    }\n",
       "\n",
       "    .dataframe thead th {\n",
       "        text-align: right;\n",
       "    }\n",
       "</style>\n",
       "<table border=\"1\" class=\"dataframe\">\n",
       "  <thead>\n",
       "    <tr style=\"text-align: right;\">\n",
       "      <th></th>\n",
       "      <th>DelayMinutes</th>\n",
       "    </tr>\n",
       "    <tr>\n",
       "      <th>Airline</th>\n",
       "      <th></th>\n",
       "    </tr>\n",
       "  </thead>\n",
       "  <tbody>\n",
       "    <tr>\n",
       "      <th>2S</th>\n",
       "      <td>64.0</td>\n",
       "    </tr>\n",
       "    <tr>\n",
       "      <th>5W</th>\n",
       "      <td>98.0</td>\n",
       "    </tr>\n",
       "    <tr>\n",
       "      <th>6E</th>\n",
       "      <td>156.0</td>\n",
       "    </tr>\n",
       "    <tr>\n",
       "      <th>6H</th>\n",
       "      <td>1465.0</td>\n",
       "    </tr>\n",
       "    <tr>\n",
       "      <th>A3</th>\n",
       "      <td>307.0</td>\n",
       "    </tr>\n",
       "    <tr>\n",
       "      <th>...</th>\n",
       "      <td>...</td>\n",
       "    </tr>\n",
       "    <tr>\n",
       "      <th>W6</th>\n",
       "      <td>814.0</td>\n",
       "    </tr>\n",
       "    <tr>\n",
       "      <th>W9</th>\n",
       "      <td>116.0</td>\n",
       "    </tr>\n",
       "    <tr>\n",
       "      <th>WZ</th>\n",
       "      <td>221.0</td>\n",
       "    </tr>\n",
       "    <tr>\n",
       "      <th>XC</th>\n",
       "      <td>180.0</td>\n",
       "    </tr>\n",
       "    <tr>\n",
       "      <th>XQ</th>\n",
       "      <td>54.0</td>\n",
       "    </tr>\n",
       "  </tbody>\n",
       "</table>\n",
       "<p>76 rows × 1 columns</p>\n",
       "</div>"
      ],
      "text/plain": [
       "         DelayMinutes\n",
       "Airline              \n",
       "2S               64.0\n",
       "5W               98.0\n",
       "6E              156.0\n",
       "6H             1465.0\n",
       "A3              307.0\n",
       "...               ...\n",
       "W6              814.0\n",
       "W9              116.0\n",
       "WZ              221.0\n",
       "XC              180.0\n",
       "XQ               54.0\n",
       "\n",
       "[76 rows x 1 columns]"
      ]
     },
     "execution_count": 26,
     "metadata": {},
     "output_type": "execute_result"
    }
   ],
   "source": [
    "AirlineDelay"
   ]
  },
  {
   "cell_type": "code",
   "execution_count": 27,
   "metadata": {},
   "outputs": [
    {
     "data": {
      "text/html": [
       "<div>\n",
       "<style scoped>\n",
       "    .dataframe tbody tr th:only-of-type {\n",
       "        vertical-align: middle;\n",
       "    }\n",
       "\n",
       "    .dataframe tbody tr th {\n",
       "        vertical-align: top;\n",
       "    }\n",
       "\n",
       "    .dataframe thead th {\n",
       "        text-align: right;\n",
       "    }\n",
       "</style>\n",
       "<table border=\"1\" class=\"dataframe\">\n",
       "  <thead>\n",
       "    <tr style=\"text-align: right;\">\n",
       "      <th></th>\n",
       "      <th>DelayMinutes</th>\n",
       "    </tr>\n",
       "    <tr>\n",
       "      <th>Terminal</th>\n",
       "      <th></th>\n",
       "    </tr>\n",
       "  </thead>\n",
       "  <tbody>\n",
       "    <tr>\n",
       "      <th>1</th>\n",
       "      <td>4315.0</td>\n",
       "    </tr>\n",
       "    <tr>\n",
       "      <th>3</th>\n",
       "      <td>14179.0</td>\n",
       "    </tr>\n",
       "  </tbody>\n",
       "</table>\n",
       "</div>"
      ],
      "text/plain": [
       "          DelayMinutes\n",
       "Terminal              \n",
       "1               4315.0\n",
       "3              14179.0"
      ]
     },
     "execution_count": 27,
     "metadata": {},
     "output_type": "execute_result"
    }
   ],
   "source": [
    "TerminalDelay"
   ]
  },
  {
   "cell_type": "code",
   "execution_count": 28,
   "metadata": {},
   "outputs": [
    {
     "data": {
      "text/html": [
       "<div>\n",
       "<style scoped>\n",
       "    .dataframe tbody tr th:only-of-type {\n",
       "        vertical-align: middle;\n",
       "    }\n",
       "\n",
       "    .dataframe tbody tr th {\n",
       "        vertical-align: top;\n",
       "    }\n",
       "\n",
       "    .dataframe thead th {\n",
       "        text-align: right;\n",
       "    }\n",
       "</style>\n",
       "<table border=\"1\" class=\"dataframe\">\n",
       "  <thead>\n",
       "    <tr style=\"text-align: right;\">\n",
       "      <th></th>\n",
       "      <th>DelayMinutes</th>\n",
       "    </tr>\n",
       "    <tr>\n",
       "      <th>PlanDate</th>\n",
       "      <th></th>\n",
       "    </tr>\n",
       "  </thead>\n",
       "  <tbody>\n",
       "    <tr>\n",
       "      <th>2023-06-29</th>\n",
       "      <td>4263.0</td>\n",
       "    </tr>\n",
       "    <tr>\n",
       "      <th>2023-06-30</th>\n",
       "      <td>14111.0</td>\n",
       "    </tr>\n",
       "    <tr>\n",
       "      <th>2023-07-01</th>\n",
       "      <td>120.0</td>\n",
       "    </tr>\n",
       "  </tbody>\n",
       "</table>\n",
       "</div>"
      ],
      "text/plain": [
       "            DelayMinutes\n",
       "PlanDate                \n",
       "2023-06-29        4263.0\n",
       "2023-06-30       14111.0\n",
       "2023-07-01         120.0"
      ]
     },
     "execution_count": 28,
     "metadata": {},
     "output_type": "execute_result"
    }
   ],
   "source": [
    "DateDelay"
   ]
  },
  {
   "cell_type": "markdown",
   "metadata": {},
   "source": [
    "### create 3 diffrent visualizations with your analyzation"
   ]
  },
  {
   "cell_type": "code",
   "execution_count": 29,
   "metadata": {},
   "outputs": [],
   "source": [
    "df['PlannedHour'] = df.PlanTime.astype('datetime64[ns]').dt.hour\n",
    "count_filter = 3  \n",
    "airline_counts = df['Airline'].value_counts()\n",
    "mask1 = df['Airline'].isin(airline_counts[airline_counts > count_filter].index)\n",
    "x3 = list(df[mask1].groupby('Airline').DelayMinutes.mean().sort_values(ascending=False).to_frame().fillna(0).index)\n",
    "df3nUp = df[df.Airline.isin(x3)] #Airlines with more than 3 flights in data"
   ]
  },
  {
   "cell_type": "code",
   "execution_count": 30,
   "metadata": {},
   "outputs": [
    {
     "data": {
      "image/png": "[encoded data removed]",
      "text/plain": [
       "<Figure size 900x500 with 1 Axes>"
      ]
     },
     "metadata": {},
     "output_type": "display_data"
    },
    {
     "name": "stdout",
     "output_type": "stream",
     "text": [
      "We can clearly see that 25% of Airlines make up for about half of the flights.\n",
      "We should give priority and reserve half of the Check-in stations for those top 25% trafficked Airlines\n"
     ]
    }
   ],
   "source": [
    "TopQuarter = round(df.Airline.nunique()/4)\n",
    "FlightsPerHour = df.groupby('PlannedHour').Airline.count() \n",
    "Top22TrafficALs = list(df.groupby('Airline').FlightNum.count().sort_values(ascending=False).head(TopQuarter).index)\n",
    "HighTrafficALPerHour = df[df.Airline.isin(Top22TrafficALs)].groupby('PlannedHour').Airline.count()\n",
    "\n",
    "plt.figure(figsize=(9,5))\n",
    "plt.style.use('bmh')\n",
    "plt.xticks(range(0,24,1))\n",
    "plt.yticks(range(0,FlightsPerHour.values.max()+10,10))\n",
    "plt.bar(FlightsPerHour.index, FlightsPerHour.values, color='#f44336',label='Number Of Flights')\n",
    "plt.bar(HighTrafficALPerHour.index, HighTrafficALPerHour.values, color='#2986cc',label='Flights by Top 25% trafficked  ALs')\n",
    "plt.title('Flights Volume of top 25% trafficked  AirLines')\n",
    "plt.xlabel('Time (Hour)')\n",
    "plt.ylabel('Flights', rotation=0, labelpad=18)\n",
    "\n",
    "plt.legend()\n",
    "plt.show()\n",
    "print('We can clearly see that 25% of Airlines make up for about half of the flights.\\n'+\n",
    "      'We should give priority and reserve half of the Check-in stations for those top 25% trafficked Airlines')"
   ]
  },
  {
   "cell_type": "code",
   "execution_count": 33,
   "metadata": {},
   "outputs": [
    {
     "data": {
      "image/png": "[encoded data removed]",
      "text/plain": [
       "<Figure size 800x500 with 1 Axes>"
      ]
     },
     "metadata": {},
     "output_type": "display_data"
    },
    {
     "name": "stdout",
     "output_type": "stream",
     "text": [
      "We can see a common range of delay times\n",
      "should keep track of Airlines which often gap above the range.\n"
     ]
    }
   ],
   "source": [
    "count_filter = 3\n",
    "airline_counts = df['Airline'].value_counts()\n",
    "mask1 = df['Airline'].isin(airline_counts[airline_counts > count_filter].index)\n",
    "x3 = list(df[mask1].groupby('Airline').DelayMinutes.mean().sort_values(ascending=False).to_frame().fillna(0).index)\n",
    "df3nUp = df[df.Airline.isin(x3)]\n",
    "AvgDelay3nUp = df3nUp.groupby('Airline').DelayMinutes.mean().to_frame().sort_values('DelayMinutes')\n",
    "\n",
    "plt.figure(figsize=(8,5))\n",
    "plt.style.use('bmh')\n",
    "plt.xticks(range(0,1000,10))\n",
    "plt.yticks(range(0,1000,1))\n",
    "plt.title('Airlines per Average Delay Time')\n",
    "plt.xlabel('Delay In Minutes')\n",
    "plt.ylabel('Airlines', rotation=0, labelpad=18)\n",
    "plt.hist(AvgDelay3nUp, color='#1B40C7', bins=10)\n",
    "plt.show()\n",
    "print('We can see a common range of delay times\\nshould keep track of Airlines which often gap above the range.')"
   ]
  },
  {
   "cell_type": "code",
   "execution_count": 34,
   "metadata": {},
   "outputs": [
    {
     "data": {
      "image/png": "[encoded data removed]",
      "text/plain": [
       "<Figure size 640x480 with 1 Axes>"
      ]
     },
     "metadata": {},
     "output_type": "display_data"
    },
    {
     "name": "stdout",
     "output_type": "stream",
     "text": [
      "We have 11 destinations above the 75% point of destinations by traffic,\n",
      "with 31.8% of their Airlines being in the top 75% of airlines with the highest delay times\n"
     ]
    },
    {
     "data": {
      "image/png": "[encoded data removed]",
      "text/plain": [
       "<Figure size 640x480 with 1 Axes>"
      ]
     },
     "metadata": {},
     "output_type": "display_data"
    },
    {
     "name": "stdout",
     "output_type": "stream",
     "text": [
      "We have 11 destinations above the 75% point of destinations by traffic,\n",
      "19.6% of their flights are by airlines in the top 75% of highest delay times.\n",
      "Best to keep a low percentage to avoid cummulative delay times.\n"
     ]
    }
   ],
   "source": [
    "AvgALDelay3nUp = df3nUp.groupby('Airline').DelayMinutes.mean().to_frame().sort_values('DelayMinutes').dropna()\n",
    "AvgALDelay75Percent3nUp = np.percentile(AvgALDelay3nUp, 75)\n",
    "ALsAbove75PDelaysAvg3nUp = list(df3nUp.groupby('Airline').DelayMinutes.mean()[df.groupby('Airline').DelayMinutes.mean()>AvgALDelay75Percent3nUp].index)\n",
    "top75percFlightsToCounter = np.percentile(df3nUp.groupby('Country').Airline.count().sort_values(), 75)\n",
    "CountriesAbove75PFlights = list(df.groupby('Country').count()[df.groupby('Country').Airline.count()>top75percFlightsToCounter].Airline.index)\n",
    "dftopcountry = df[df.Country.isin(CountriesAbove75PFlights)]\n",
    "\n",
    "common_values = len(ALsAbove75PDelaysAvg3nUp)\n",
    "total_values = len(list(df3nUp[df3nUp.Country.isin(CountriesAbove75PFlights)].Airline.drop_duplicates()))\n",
    "\n",
    "percentage_common = (common_values / total_values) * 100\n",
    "percentage_other = 100 - percentage_common\n",
    "labels = ['Most Delaying ALs', 'Rest of ALs']\n",
    "sizes = [percentage_common, percentage_other]\n",
    "colors = ['#46C7FF', '#FFC727']\n",
    "\n",
    "plt.pie(sizes, labels=labels, colors=colors, autopct='%1.1f%%')\n",
    "plt.axis('equal')\n",
    "plt.title('Top '+str(len(CountriesAbove75PFlights))+' destinations: Percentage of most delaying ALs from total')\n",
    "plt.show()\n",
    "print('We have '+str(len(CountriesAbove75PFlights))+' destinations above the 75% point of destinations by traffic,\\n'+\n",
    "      'with '+str(round(percentage_common,1))+'% of their Airlines being in the top 75% of airlines with the highest delay times')\n",
    "\n",
    "common_values = dftopcountry[dftopcountry.Airline.isin(ALsAbove75PDelaysAvg3nUp)].shape[0]\n",
    "total_values = dftopcountry.shape[0]\n",
    "\n",
    "percentage_common = (common_values / total_values) * 100\n",
    "percentage_other = 100 - percentage_common\n",
    "labels = ['Flights by Delaying ALs', 'Rest of ALs']\n",
    "sizes = [percentage_common, percentage_other]\n",
    "colors = ['#46C7FF', '#FFC727']\n",
    "\n",
    "plt.pie(sizes, labels=labels, colors=colors, autopct='%1.1f%%')\n",
    "plt.axis('equal')\n",
    "plt.title('Top '+str(len(CountriesAbove75PFlights))+' destinations: Percentage of flights by most delaying ALs')\n",
    "plt.show()\n",
    "print('We have '+str(len(CountriesAbove75PFlights))+' destinations above the 75% point of destinations by traffic,\\n'+\n",
    "      str(round(percentage_common,1))+'% of their flights are by airlines in the top 75% of highest delay times.\\n'+\n",
    "      'Best to keep a low percentage to avoid cummulative delay times.')"
   ]
  },
  {
   "cell_type": "code",
   "execution_count": null,
   "metadata": {},
   "outputs": [],
   "source": []
  }
 ],
 "metadata": {
  "kernelspec": {
   "display_name": "Python 3 (ipykernel)",
   "language": "python",
   "name": "python3"
  },
  "language_info": {
   "codemirror_mode": {
    "name": "ipython",
    "version": 3
   },
   "file_extension": ".py",
   "mimetype": "text/x-python",
   "name": "python",
   "nbconvert_exporter": "python",
   "pygments_lexer": "ipython3",
   "version": "3.10.9"
  }
 },
 "nbformat": 4,
 "nbformat_minor": 4
}
